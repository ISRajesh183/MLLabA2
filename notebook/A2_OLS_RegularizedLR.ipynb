{
  "nbformat": 4,
  "nbformat_minor": 0,
  "metadata": {
    "colab": {
      "provenance": []
    },
    "kernelspec": {
      "name": "python3",
      "display_name": "Python 3"
    },
    "language_info": {
      "name": "python"
    }
  },
  "cells": [
    {
      "cell_type": "code",
      "execution_count": 1,
      "metadata": {
        "id": "MDd4usfomjq5"
      },
      "outputs": [],
      "source": [
        "# Import Libraries\n",
        "import pandas as pd\n",
        "import numpy as np\n",
        "import matplotlib.pyplot as plt\n",
        "import seaborn as sns\n",
        "from sklearn.model_selection import train_test_split\n",
        "from sklearn.preprocessing import LabelEncoder, StandardScaler\n",
        "from sklearn.linear_model import Ridge, Lasso, ElasticNet\n",
        "from sklearn.metrics import mean_squared_error, root_mean_squared_error, mean_absolute_error, r2_score"
      ]
    },
    {
      "cell_type": "code",
      "source": [
        "import pandas as pd\n",
        "import numpy as np\n",
        "from sklearn.linear_model import Ridge, Lasso, ElasticNet\n",
        "from sklearn.model_selection import train_test_split\n",
        "from sklearn.preprocessing import StandardScaler\n",
        "from sklearn.metrics import mean_squared_error, mean_absolute_error, r2_score\n",
        "\n",
        "# Load dataset\n",
        "df = pd.read_csv(\"updated_train.csv\")\n",
        "\n",
        "# Target and Features\n",
        "target_column = 'Loan Sanction Amount (USD)'\n",
        "X = df.drop(columns=[target_column])\n",
        "y = df[target_column]\n",
        "\n",
        "# Scale features\n",
        "scaler = StandardScaler()\n",
        "X_scaled = scaler.fit_transform(X)\n",
        "\n",
        "# Train-test split\n",
        "X_train, X_test, y_train, y_test = train_test_split(X_scaled, y, test_size=0.2, random_state=42)\n",
        "\n",
        "# Define models with hyperparameter variations\n",
        "models = {\n",
        "    \"Ridge (α=0.1)\": Ridge(alpha=0.1),\n",
        "    \"Ridge (α=10)\": Ridge(alpha=10),\n",
        "    \"Lasso (α=0.1)\": Lasso(alpha=0.1, max_iter=10000),\n",
        "    \"Lasso (α=10)\": Lasso(alpha=10, max_iter=10000),\n",
        "    \"ElasticNet (α=0.1, l1=0.5)\": ElasticNet(alpha=0.1, l1_ratio=0.5, max_iter=10000),\n",
        "    \"ElasticNet (α=10, l1=0.5)\": ElasticNet(alpha=10, l1_ratio=0.5, max_iter=10000)\n",
        "}\n",
        "\n",
        "# Evaluate and store results\n",
        "results = []\n",
        "\n",
        "for name, model in models.items():\n",
        "    model.fit(X_train, y_train)\n",
        "    y_pred = model.predict(X_test)\n",
        "\n",
        "    mse = mean_squared_error(y_test, y_pred)\n",
        "    rmse = np.sqrt(mse)\n",
        "    mae = mean_absolute_error(y_test, y_pred)\n",
        "    r2 = r2_score(y_test, y_pred)\n",
        "    adj_r2 = 1 - (1 - r2) * (len(y_test) - 1) / (len(y_test) - X_test.shape[1] - 1)\n",
        "\n",
        "    results.append({\n",
        "        \"Model\": name,\n",
        "        \"MAE\": mae,\n",
        "        \"MSE\": mse,\n",
        "        \"RMSE\": rmse,\n",
        "        \"R2\": r2,\n",
        "        \"Adjusted R2\": adj_r2\n",
        "    })\n",
        "\n",
        "# Display results\n",
        "results_df = pd.DataFrame(results).sort_values(by=\"R2\", ascending=False)\n",
        "print(results_df)"
      ],
      "metadata": {
        "colab": {
          "base_uri": "https://localhost:8080/"
        },
        "id": "OCtis6cBmtJ6",
        "outputId": "8590bca9-88f1-4572-91b7-fa2cd9c7d756"
      },
      "execution_count": 3,
      "outputs": [
        {
          "output_type": "stream",
          "name": "stderr",
          "text": [
            "/usr/local/lib/python3.11/dist-packages/sklearn/linear_model/_coordinate_descent.py:695: ConvergenceWarning: Objective did not converge. You might want to increase the number of iterations, check the scale of the features or consider increasing regularisation. Duality gap: 9.936e+12, tolerance: 5.550e+09\n",
            "  model = cd_fast.enet_coordinate_descent(\n"
          ]
        },
        {
          "output_type": "stream",
          "name": "stdout",
          "text": [
            "                        Model           MAE           MSE          RMSE  \\\n",
            "4  ElasticNet (α=0.1, l1=0.5)  21586.598637  1.011990e+09  31811.791232   \n",
            "1                Ridge (α=10)  21526.591470  1.015082e+09  31860.345738   \n",
            "3                Lasso (α=10)  21523.251271  1.015110e+09  31860.790166   \n",
            "2               Lasso (α=0.1)  21536.573671  1.015232e+09  31862.712494   \n",
            "0               Ridge (α=0.1)  21538.784781  1.015289e+09  31863.603208   \n",
            "5   ElasticNet (α=10, l1=0.5)  29304.607142  1.448780e+09  38062.841465   \n",
            "\n",
            "         R2  Adjusted R2  \n",
            "4  0.554145     0.552485  \n",
            "1  0.552783     0.551118  \n",
            "3  0.552771     0.551105  \n",
            "2  0.552717     0.551051  \n",
            "0  0.552692     0.551026  \n",
            "5  0.361708     0.359331  \n"
          ]
        }
      ]
    }
  ]
}