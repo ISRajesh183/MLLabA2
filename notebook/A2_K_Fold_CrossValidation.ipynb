{
  "nbformat": 4,
  "nbformat_minor": 0,
  "metadata": {
    "colab": {
      "provenance": []
    },
    "kernelspec": {
      "name": "python3",
      "display_name": "Python 3"
    },
    "language_info": {
      "name": "python"
    }
  },
  "cells": [
    {
      "cell_type": "code",
      "source": [
        "# Import Libraries\n",
        "import pandas as pd\n",
        "import numpy as np\n",
        "from sklearn.model_selection import KFold\n",
        "from sklearn.linear_model import LinearRegression\n",
        "from sklearn.preprocessing import StandardScaler\n",
        "from sklearn.metrics import mean_squared_error, root_mean_squared_error, mean_absolute_error, r2_score"
      ],
      "metadata": {
        "id": "kSTwDgfYp19L"
      },
      "execution_count": 3,
      "outputs": []
    },
    {
      "cell_type": "code",
      "execution_count": 4,
      "metadata": {
        "colab": {
          "base_uri": "https://localhost:8080/"
        },
        "id": "ayvJlgp2gks0",
        "outputId": "9e4e8770-ce75-42f3-eb5a-c56c24191495"
      },
      "outputs": [
        {
          "output_type": "stream",
          "name": "stdout",
          "text": [
            "      Fold           MAE           MSE          RMSE        R2  Adjusted R2\n",
            "0        1  21539.365959  1.015307e+09  31863.886748  0.552684     0.551018\n",
            "1        2  21627.319510  9.686148e+08  31122.576996  0.573056     0.571466\n",
            "2        3  21507.681453  1.181087e+09  34366.951680  0.488430     0.486525\n",
            "3        4  21511.178652  9.179253e+08  30297.281442  0.620162     0.618748\n",
            "4        5  21709.723065  9.933505e+08  31517.464130  0.579387     0.577821\n",
            "5  Average  21579.053728  1.015257e+09  31833.632199  0.562744     0.561116\n"
          ]
        }
      ],
      "source": [
        "# Load the updated dataset\n",
        "df = pd.read_csv(\"updated_train.csv\")\n",
        "\n",
        "# Define the target column\n",
        "target_column = 'Loan Sanction Amount (USD)'\n",
        "\n",
        "# Separate features and target\n",
        "X = df.drop(columns=[target_column])\n",
        "y = df[target_column]\n",
        "\n",
        "# Standardize the feature values\n",
        "scaler = StandardScaler()\n",
        "X_scaled = scaler.fit_transform(X)\n",
        "\n",
        "# Initialize 5-fold cross-validation\n",
        "kf = KFold(n_splits=5, shuffle=True, random_state=42)\n",
        "\n",
        "# Store evaluation metrics\n",
        "results = []\n",
        "\n",
        "# Run cross-validation\n",
        "for fold, (train_index, val_index) in enumerate(kf.split(X_scaled), 1):\n",
        "    X_train, X_val = X_scaled[train_index], X_scaled[val_index]\n",
        "    y_train, y_val = y.iloc[train_index], y.iloc[val_index]\n",
        "\n",
        "    # Train the model\n",
        "    model = LinearRegression()\n",
        "    model.fit(X_train, y_train)\n",
        "\n",
        "    # Predict on validation set\n",
        "    y_pred = model.predict(X_val)\n",
        "\n",
        "    # Calculate metrics\n",
        "    mse = mean_squared_error(y_val, y_pred)\n",
        "    rmse = root_mean_squared_error(y_val, y_pred)\n",
        "    mae = mean_absolute_error(y_val, y_pred)\n",
        "    r2 = r2_score(y_val, y_pred)\n",
        "    adj_r2 = 1 - (1 - r2) * (len(y_val) - 1) / (len(y_val) - X_val.shape[1] - 1)\n",
        "\n",
        "    results.append({\n",
        "        \"Fold\": fold,\n",
        "        \"MAE\": mae,\n",
        "        \"MSE\": mse,\n",
        "        \"RMSE\": rmse,\n",
        "        \"R2\": r2,\n",
        "        \"Adjusted R2\": adj_r2\n",
        "    })\n",
        "\n",
        "cv_results_df = pd.DataFrame(results)\n",
        "\n",
        "average_row = {\n",
        "    \"Fold\": \"Average\",\n",
        "    \"MAE\": cv_results_df[\"MAE\"].mean(),\n",
        "    \"MSE\": cv_results_df[\"MSE\"].mean(),\n",
        "    \"RMSE\": cv_results_df[\"RMSE\"].mean(),\n",
        "    \"R2\": cv_results_df[\"R2\"].mean(),\n",
        "    \"Adjusted R2\": cv_results_df[\"Adjusted R2\"].mean()\n",
        "}\n",
        "\n",
        "cv_results_df = pd.concat([cv_results_df, pd.DataFrame([average_row])], ignore_index=True)\n",
        "\n",
        "# Display results\n",
        "\n",
        "# Display results\n",
        "print(cv_results_df)"
      ]
    }
  ]
}